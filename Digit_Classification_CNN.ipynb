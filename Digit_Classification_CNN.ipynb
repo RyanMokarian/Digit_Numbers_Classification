{
  "nbformat": 4,
  "nbformat_minor": 0,
  "metadata": {
    "kernelspec": {
      "name": "python3",
      "display_name": "Python 3"
    },
    "language_info": {
      "codemirror_mode": {
        "name": "ipython",
        "version": 3
      },
      "file_extension": ".py",
      "mimetype": "text/x-python",
      "name": "python",
      "nbconvert_exporter": "python",
      "pygments_lexer": "ipython3",
      "version": "3.7.1"
    },
    "colab": {
      "name": "Digit_Classification_CNN.ipynb",
      "provenance": [],
      "collapsed_sections": [],
      "include_colab_link": true
    },
    "accelerator": "GPU"
  },
  "cells": [
    {
      "cell_type": "markdown",
      "metadata": {
        "id": "view-in-github",
        "colab_type": "text"
      },
      "source": [
        "<a href=\"https://colab.research.google.com/github/RyanMokarian/Digit_Numbers_Classification/blob/master/Digit_Classification_CNN.ipynb\" target=\"_parent\"><img src=\"https://colab.research.google.com/assets/colab-badge.svg\" alt=\"Open In Colab\"/></a>"
      ]
    },
    {
      "cell_type": "markdown",
      "metadata": {
        "id": "5Z6yb_gzz1XI",
        "colab_type": "text"
      },
      "source": [
        "# Digit Numbers Classification\n",
        "\n",
        "### Dataset: MNIST\n",
        "\n",
        "### Algorithm: Deep Learning (Convolutional Neural Network)\n",
        "\n",
        "### Author: Ryan Mokarian, March 4, 2020"
      ]
    },
    {
      "cell_type": "code",
      "metadata": {
        "id": "x2c1_StkrFZR",
        "colab_type": "code",
        "outputId": "3534ad4b-41f7-4ed3-9906-c744210093bf",
        "colab": {
          "base_uri": "https://localhost:8080/",
          "height": 120
        }
      },
      "source": [
        "from google.colab import drive\n",
        "drive.mount('/content/drive')"
      ],
      "execution_count": 0,
      "outputs": [
        {
          "output_type": "stream",
          "text": [
            "Go to this URL in a browser: https://accounts.google.com/o/oauth2/auth?client_id=947318989803-6bn6qk8qdgf4n4g3pfee6491hc0brc4i.apps.googleusercontent.com&redirect_uri=urn%3aietf%3awg%3aoauth%3a2.0%3aoob&response_type=code&scope=email%20https%3a%2f%2fwww.googleapis.com%2fauth%2fdocs.test%20https%3a%2f%2fwww.googleapis.com%2fauth%2fdrive%20https%3a%2f%2fwww.googleapis.com%2fauth%2fdrive.photos.readonly%20https%3a%2f%2fwww.googleapis.com%2fauth%2fpeopleapi.readonly\n",
            "\n",
            "Enter your authorization code:\n",
            "··········\n",
            "Mounted at /content/drive\n"
          ],
          "name": "stdout"
        }
      ]
    },
    {
      "cell_type": "code",
      "metadata": {
        "id": "wSD-Ibz2rIgt",
        "colab_type": "code",
        "outputId": "1d3ed1de-6754-412e-add9-1236b513b3ff",
        "colab": {
          "base_uri": "https://localhost:8080/",
          "height": 33
        }
      },
      "source": [
        "import numpy as np\n",
        "import pandas as pd\n",
        "path = \"/content/drive/My Drive/Colab Notebooks/JumioMnistTest/mnist.csv\"\n",
        "df = pd.read_csv(path)\n",
        "X_df = df.iloc[:, 1:]\n",
        "y_df = df.iloc[:, 0]\n",
        "X = X_df.to_numpy()\n",
        "y = y_df.to_numpy()\n",
        "X.shape, y.shape"
      ],
      "execution_count": 0,
      "outputs": [
        {
          "output_type": "execute_result",
          "data": {
            "text/plain": [
              "((42000, 784), (42000,))"
            ]
          },
          "metadata": {
            "tags": []
          },
          "execution_count": 75
        }
      ]
    },
    {
      "cell_type": "markdown",
      "metadata": {
        "id": "___LmoL7z1XN",
        "colab_type": "text"
      },
      "source": [
        "Visualizing the first two images with matplotlib and adding a channel dimension.\n"
      ]
    },
    {
      "cell_type": "code",
      "metadata": {
        "id": "9Im01is2z1XN",
        "colab_type": "code",
        "outputId": "ed85a0ed-b355-4327-f36d-cb0293374112",
        "colab": {
          "base_uri": "https://localhost:8080/",
          "height": 284
        }
      },
      "source": [
        "import matplotlib.pyplot as plt\n",
        "import matplotlib as mpl\n",
        "from numpy import expand_dims\n",
        "\n",
        "image1, image2 = X[0].reshape(28, 28), X[1].reshape(28, 28)\n",
        "f = plt.figure()\n",
        "f.add_subplot(1,2, 1)\n",
        "plt.imshow(image1, cmap='binary')\n",
        "f.add_subplot(1,2, 2)\n",
        "plt.imshow(image2, cmap='binary')\n",
        "plt.show(block=True)\n",
        "print('The first and second images lables are', y[0], ', ', y[1])\n",
        "# add a dimension\n",
        "image1_added_Dimension = expand_dims(image1, axis=2)\n",
        "image2_added_Dimension = expand_dims(image2, axis=2)\n",
        "print('Dimension after adding a channel is:')\n",
        "print('1st image: ', image1_added_Dimension.shape)\n",
        "print('2nd image: ', image2_added_Dimension.shape)\n",
        "X = X.reshape(X.shape[0], 28, 28)\n",
        "X = X[..., np.newaxis]\n",
        "print('X shape is: ',X.shape)"
      ],
      "execution_count": 0,
      "outputs": [
        {
          "output_type": "display_data",
          "data": {
            "image/png": "[encoded data removed]",
            "text/plain": [
              "<Figure size 432x288 with 2 Axes>"
            ]
          },
          "metadata": {
            "tags": []
          }
        },
        {
          "output_type": "stream",
          "text": [
            "The first and second images lables are 1 ,  0\n",
            "Dimension after adding a channel is:\n",
            "1st image:  (28, 28, 1)\n",
            "2nd image:  (28, 28, 1)\n",
            "X shape is:  (42000, 28, 28, 1)\n"
          ],
          "name": "stdout"
        }
      ]
    },
    {
      "cell_type": "code",
      "metadata": {
        "id": "iOshw8xxz1XU",
        "colab_type": "code",
        "outputId": "3e2b6bd9-cd9d-4119-c81e-65016ce8b102",
        "colab": {
          "base_uri": "https://localhost:8080/",
          "height": 67
        }
      },
      "source": [
        "from sklearn.model_selection import train_test_split\n",
        "\n",
        "z = np.max(y) + 1\n",
        "y_onehot = np.eye(z)[y]\n",
        "\n",
        "X_train, X_test, y_train, y_test = train_test_split(X, y_onehot, test_size=0.25)\n",
        "\n",
        "print(X_train.shape)\n",
        "print(y_train.shape)\n",
        "print('X_test.shape : ', X_test.shape)"
      ],
      "execution_count": 0,
      "outputs": [
        {
          "output_type": "stream",
          "text": [
            "(31500, 28, 28, 1)\n",
            "(31500, 10)\n",
            "X_test.shape :  (10500, 28, 28, 1)\n"
          ],
          "name": "stdout"
        }
      ]
    },
    {
      "cell_type": "markdown",
      "metadata": {
        "id": "WLwaDGjhz1XW",
        "colab_type": "text"
      },
      "source": [
        "Using keras to create a CNN model"
      ]
    },
    {
      "cell_type": "code",
      "metadata": {
        "id": "EvRbp25Uz1XX",
        "colab_type": "code",
        "outputId": "7a47db50-f9b4-4c66-89bd-291834bf4af2",
        "colab": {
          "base_uri": "https://localhost:8080/",
          "height": 385
        }
      },
      "source": [
        "import keras\n",
        "from keras.models import Sequential\n",
        "from keras.layers import Dense, Dropout, Flatten\n",
        "from keras.layers import Conv2D, MaxPooling2D\n",
        "\n",
        "model = Sequential()\n",
        "model.add(Conv2D(6, (5, 5), activation='relu', input_shape=(28, 28, 1)))\n",
        "model.add(MaxPooling2D((2, 2)))\n",
        "model.add(Conv2D(16, (5, 5), activation='relu'))\n",
        "model.add(MaxPooling2D((2, 2)))\n",
        "model.add(Flatten())\n",
        "model.add(Dense(units=128, activation='relu'))\n",
        "model.add(Dense(units=10, activation='softmax'))\n",
        "model.summary()\n"
      ],
      "execution_count": 0,
      "outputs": [
        {
          "output_type": "stream",
          "text": [
            "Model: \"sequential_5\"\n",
            "_________________________________________________________________\n",
            "Layer (type)                 Output Shape              Param #   \n",
            "=================================================================\n",
            "conv2d_9 (Conv2D)            (None, 24, 24, 6)         156       \n",
            "_________________________________________________________________\n",
            "max_pooling2d_9 (MaxPooling2 (None, 12, 12, 6)         0         \n",
            "_________________________________________________________________\n",
            "conv2d_10 (Conv2D)           (None, 8, 8, 16)          2416      \n",
            "_________________________________________________________________\n",
            "max_pooling2d_10 (MaxPooling (None, 4, 4, 16)          0         \n",
            "_________________________________________________________________\n",
            "flatten_5 (Flatten)          (None, 256)               0         \n",
            "_________________________________________________________________\n",
            "dense_9 (Dense)              (None, 128)               32896     \n",
            "_________________________________________________________________\n",
            "dense_10 (Dense)             (None, 10)                1290      \n",
            "=================================================================\n",
            "Total params: 36,758\n",
            "Trainable params: 36,758\n",
            "Non-trainable params: 0\n",
            "_________________________________________________________________\n"
          ],
          "name": "stdout"
        }
      ]
    },
    {
      "cell_type": "code",
      "metadata": {
        "id": "9hX9AsDfz1XZ",
        "colab_type": "code",
        "colab": {}
      },
      "source": [
        "from keras.optimizers import SGD\n",
        "from keras import metrics\n",
        "\n",
        "opt = SGD(lr=1e-4)\n",
        "model.compile(optimizer=opt, loss='categorical_crossentropy', \\\n",
        "metrics=['accuracy'])"
      ],
      "execution_count": 0,
      "outputs": []
    },
    {
      "cell_type": "markdown",
      "metadata": {
        "id": "P4CJxXqVz1Xb",
        "colab_type": "text"
      },
      "source": [
        "Fit the model"
      ]
    },
    {
      "cell_type": "code",
      "metadata": {
        "id": "aIBpRiD0z1Xb",
        "colab_type": "code",
        "outputId": "7bb09f33-e03d-4e8c-9684-e08b9a7b761f",
        "colab": {
          "base_uri": "https://localhost:8080/",
          "height": 33
        }
      },
      "source": [
        "model.fit(X_train, y_train, epochs=6, batch_size=32, verbose=0)"
      ],
      "execution_count": 0,
      "outputs": [
        {
          "output_type": "execute_result",
          "data": {
            "text/plain": [
              "<keras.callbacks.History at 0x7fe1b4f173c8>"
            ]
          },
          "metadata": {
            "tags": []
          },
          "execution_count": 127
        }
      ]
    },
    {
      "cell_type": "markdown",
      "metadata": {
        "id": "ZRqIv9xZz1Xf",
        "colab_type": "text"
      },
      "source": [
        "Prediciton on the test set \n"
      ]
    },
    {
      "cell_type": "code",
      "metadata": {
        "id": "ZvWNkDeBpchQ",
        "colab_type": "code",
        "colab": {}
      },
      "source": [
        "prediction = model.predict(X_test)"
      ],
      "execution_count": 0,
      "outputs": []
    },
    {
      "cell_type": "code",
      "metadata": {
        "id": "lmv0rOkyz1Xg",
        "colab_type": "code",
        "outputId": "05e377f4-d964-4828-dd00-75d1c6f04b84",
        "colab": {
          "base_uri": "https://localhost:8080/",
          "height": 636
        }
      },
      "source": [
        "from sklearn.metrics import confusion_matrix, accuracy_score, classification_report\n",
        "\n",
        "predictions = model.predict_classes(X_test, batch_size=128, verbose=0)\n",
        "labels=np.argmax(y_test, axis=1)\n",
        "cm = confusion_matrix(labels, predictions)\n",
        "print(\"(1) Confusion matrix:\\n\")\n",
        "print(cm)\n",
        "print(\"According to the above confusion matrix, class 4 confused most often.\")\n",
        "print('True positive rate, for class 4 is 919/970 = % 95')\n",
        "print('False positive rate, for class 4 is 51/970 = % 5')\n",
        "print(\"\\n(2)Accuracy score:\"+str(accuracy_score(labels, predictions)))\n",
        "print(\"\\n(3) Classification report:\\n\")\n",
        "print(classification_report(labels, predictions))"
      ],
      "execution_count": 0,
      "outputs": [
        {
          "output_type": "stream",
          "text": [
            "(1) Confusion matrix:\n",
            "\n",
            "[[1053    0    3    1    1    4    6    2    8    4]\n",
            " [   0 1095    6    0    5    2    2    3    5    1]\n",
            " [   3    3  995   10    7    0    4   13    9    5]\n",
            " [   8    2   19 1017    0   21    1    6    9    3]\n",
            " [   2    3    2    0  919    0    7    5    4   28]\n",
            " [   3    3    0   21    2  930   10    1   18    6]\n",
            " [  12    2    2    0    6    6 1005    0    4    1]\n",
            " [   1    2   12   11    2    1    0 1046    2   15]\n",
            " [   4    5    7    6    6    5   11    2  932   18]\n",
            " [   8    3    2    6   31    8    0   15   11  990]]\n",
            "According to the above confusion matrix, class 4 confused most often.\n",
            "True positive rate, for class 4 is 919/970 = % 95\n",
            "False positive rate, for class 4 is 51/970 = % 5\n",
            "\n",
            "(2)Accuracy score:0.9506666666666667\n",
            "\n",
            "(3) Classification report:\n",
            "\n",
            "              precision    recall  f1-score   support\n",
            "\n",
            "           0       0.96      0.97      0.97      1082\n",
            "           1       0.98      0.98      0.98      1119\n",
            "           2       0.95      0.95      0.95      1049\n",
            "           3       0.95      0.94      0.94      1086\n",
            "           4       0.94      0.95      0.94       970\n",
            "           5       0.95      0.94      0.94       994\n",
            "           6       0.96      0.97      0.96      1038\n",
            "           7       0.96      0.96      0.96      1092\n",
            "           8       0.93      0.94      0.93       996\n",
            "           9       0.92      0.92      0.92      1074\n",
            "\n",
            "    accuracy                           0.95     10500\n",
            "   macro avg       0.95      0.95      0.95     10500\n",
            "weighted avg       0.95      0.95      0.95     10500\n",
            "\n"
          ],
          "name": "stdout"
        }
      ]
    }
  ]
}